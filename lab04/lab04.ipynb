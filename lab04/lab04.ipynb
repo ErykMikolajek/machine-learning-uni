{
 "cells": [
  {
   "cell_type": "code",
   "execution_count": 1,
   "id": "f62a0a69-bf8f-4537-926a-a3bc8cf687bc",
   "metadata": {},
   "outputs": [],
   "source": [
    "from sklearn import datasets"
   ]
  },
  {
   "cell_type": "code",
   "execution_count": 2,
   "id": "2d403448-a760-4111-8667-aa74f9159684",
   "metadata": {},
   "outputs": [
    {
     "name": "stdout",
     "output_type": "stream",
     "text": [
      ".. _breast_cancer_dataset:\n",
      "\n",
      "Breast cancer wisconsin (diagnostic) dataset\n",
      "--------------------------------------------\n",
      "\n",
      "**Data Set Characteristics:**\n",
      "\n",
      "    :Number of Instances: 569\n",
      "\n",
      "    :Number of Attributes: 30 numeric, predictive attributes and the class\n",
      "\n",
      "    :Attribute Information:\n",
      "        - radius (mean of distances from center to points on the perimeter)\n",
      "        - texture (standard deviation of gray-scale values)\n",
      "        - perimeter\n",
      "        - area\n",
      "        - smoothness (local variation in radius lengths)\n",
      "        - compactness (perimeter^2 / area - 1.0)\n",
      "        - concavity (severity of concave portions of the contour)\n",
      "        - concave points (number of concave portions of the contour)\n",
      "        - symmetry\n",
      "        - fractal dimension (\"coastline approximation\" - 1)\n",
      "\n",
      "        The mean, standard error, and \"worst\" or largest (mean of the three\n",
      "        worst/largest values) of these features were computed for each image,\n",
      "        resulting in 30 features.  For instance, field 0 is Mean Radius, field\n",
      "        10 is Radius SE, field 20 is Worst Radius.\n",
      "\n",
      "        - class:\n",
      "                - WDBC-Malignant\n",
      "                - WDBC-Benign\n",
      "\n",
      "    :Summary Statistics:\n",
      "\n",
      "    ===================================== ====== ======\n",
      "                                           Min    Max\n",
      "    ===================================== ====== ======\n",
      "    radius (mean):                        6.981  28.11\n",
      "    texture (mean):                       9.71   39.28\n",
      "    perimeter (mean):                     43.79  188.5\n",
      "    area (mean):                          143.5  2501.0\n",
      "    smoothness (mean):                    0.053  0.163\n",
      "    compactness (mean):                   0.019  0.345\n",
      "    concavity (mean):                     0.0    0.427\n",
      "    concave points (mean):                0.0    0.201\n",
      "    symmetry (mean):                      0.106  0.304\n",
      "    fractal dimension (mean):             0.05   0.097\n",
      "    radius (standard error):              0.112  2.873\n",
      "    texture (standard error):             0.36   4.885\n",
      "    perimeter (standard error):           0.757  21.98\n",
      "    area (standard error):                6.802  542.2\n",
      "    smoothness (standard error):          0.002  0.031\n",
      "    compactness (standard error):         0.002  0.135\n",
      "    concavity (standard error):           0.0    0.396\n",
      "    concave points (standard error):      0.0    0.053\n",
      "    symmetry (standard error):            0.008  0.079\n",
      "    fractal dimension (standard error):   0.001  0.03\n",
      "    radius (worst):                       7.93   36.04\n",
      "    texture (worst):                      12.02  49.54\n",
      "    perimeter (worst):                    50.41  251.2\n",
      "    area (worst):                         185.2  4254.0\n",
      "    smoothness (worst):                   0.071  0.223\n",
      "    compactness (worst):                  0.027  1.058\n",
      "    concavity (worst):                    0.0    1.252\n",
      "    concave points (worst):               0.0    0.291\n",
      "    symmetry (worst):                     0.156  0.664\n",
      "    fractal dimension (worst):            0.055  0.208\n",
      "    ===================================== ====== ======\n",
      "\n",
      "    :Missing Attribute Values: None\n",
      "\n",
      "    :Class Distribution: 212 - Malignant, 357 - Benign\n",
      "\n",
      "    :Creator:  Dr. William H. Wolberg, W. Nick Street, Olvi L. Mangasarian\n",
      "\n",
      "    :Donor: Nick Street\n",
      "\n",
      "    :Date: November, 1995\n",
      "\n",
      "This is a copy of UCI ML Breast Cancer Wisconsin (Diagnostic) datasets.\n",
      "https://goo.gl/U2Uwz2\n",
      "\n",
      "Features are computed from a digitized image of a fine needle\n",
      "aspirate (FNA) of a breast mass.  They describe\n",
      "characteristics of the cell nuclei present in the image.\n",
      "\n",
      "Separating plane described above was obtained using\n",
      "Multisurface Method-Tree (MSM-T) [K. P. Bennett, \"Decision Tree\n",
      "Construction Via Linear Programming.\" Proceedings of the 4th\n",
      "Midwest Artificial Intelligence and Cognitive Science Society,\n",
      "pp. 97-101, 1992], a classification method which uses linear\n",
      "programming to construct a decision tree.  Relevant features\n",
      "were selected using an exhaustive search in the space of 1-4\n",
      "features and 1-3 separating planes.\n",
      "\n",
      "The actual linear program used to obtain the separating plane\n",
      "in the 3-dimensional space is that described in:\n",
      "[K. P. Bennett and O. L. Mangasarian: \"Robust Linear\n",
      "Programming Discrimination of Two Linearly Inseparable Sets\",\n",
      "Optimization Methods and Software 1, 1992, 23-34].\n",
      "\n",
      "This database is also available through the UW CS ftp server:\n",
      "\n",
      "ftp ftp.cs.wisc.edu\n",
      "cd math-prog/cpo-dataset/machine-learn/WDBC/\n",
      "\n",
      ".. topic:: References\n",
      "\n",
      "   - W.N. Street, W.H. Wolberg and O.L. Mangasarian. Nuclear feature extraction \n",
      "     for breast tumor diagnosis. IS&T/SPIE 1993 International Symposium on \n",
      "     Electronic Imaging: Science and Technology, volume 1905, pages 861-870,\n",
      "     San Jose, CA, 1993.\n",
      "   - O.L. Mangasarian, W.N. Street and W.H. Wolberg. Breast cancer diagnosis and \n",
      "     prognosis via linear programming. Operations Research, 43(4), pages 570-577, \n",
      "     July-August 1995.\n",
      "   - W.H. Wolberg, W.N. Street, and O.L. Mangasarian. Machine learning techniques\n",
      "     to diagnose breast cancer from fine-needle aspirates. Cancer Letters 77 (1994) \n",
      "     163-171.\n"
     ]
    }
   ],
   "source": [
    "data_breast_cancer = datasets.load_breast_cancer()\n",
    "print(data_breast_cancer['DESCR'])"
   ]
  },
  {
   "cell_type": "code",
   "execution_count": 3,
   "id": "6e6cc701-b9af-44da-8b6f-b0006c424978",
   "metadata": {},
   "outputs": [
    {
     "name": "stdout",
     "output_type": "stream",
     "text": [
      ".. _iris_dataset:\n",
      "\n",
      "Iris plants dataset\n",
      "--------------------\n",
      "\n",
      "**Data Set Characteristics:**\n",
      "\n",
      "    :Number of Instances: 150 (50 in each of three classes)\n",
      "    :Number of Attributes: 4 numeric, predictive attributes and the class\n",
      "    :Attribute Information:\n",
      "        - sepal length in cm\n",
      "        - sepal width in cm\n",
      "        - petal length in cm\n",
      "        - petal width in cm\n",
      "        - class:\n",
      "                - Iris-Setosa\n",
      "                - Iris-Versicolour\n",
      "                - Iris-Virginica\n",
      "                \n",
      "    :Summary Statistics:\n",
      "\n",
      "    ============== ==== ==== ======= ===== ====================\n",
      "                    Min  Max   Mean    SD   Class Correlation\n",
      "    ============== ==== ==== ======= ===== ====================\n",
      "    sepal length:   4.3  7.9   5.84   0.83    0.7826\n",
      "    sepal width:    2.0  4.4   3.05   0.43   -0.4194\n",
      "    petal length:   1.0  6.9   3.76   1.76    0.9490  (high!)\n",
      "    petal width:    0.1  2.5   1.20   0.76    0.9565  (high!)\n",
      "    ============== ==== ==== ======= ===== ====================\n",
      "\n",
      "    :Missing Attribute Values: None\n",
      "    :Class Distribution: 33.3% for each of 3 classes.\n",
      "    :Creator: R.A. Fisher\n",
      "    :Donor: Michael Marshall (MARSHALL%PLU@io.arc.nasa.gov)\n",
      "    :Date: July, 1988\n",
      "\n",
      "The famous Iris database, first used by Sir R.A. Fisher. The dataset is taken\n",
      "from Fisher's paper. Note that it's the same as in R, but not as in the UCI\n",
      "Machine Learning Repository, which has two wrong data points.\n",
      "\n",
      "This is perhaps the best known database to be found in the\n",
      "pattern recognition literature.  Fisher's paper is a classic in the field and\n",
      "is referenced frequently to this day.  (See Duda & Hart, for example.)  The\n",
      "data set contains 3 classes of 50 instances each, where each class refers to a\n",
      "type of iris plant.  One class is linearly separable from the other 2; the\n",
      "latter are NOT linearly separable from each other.\n",
      "\n",
      ".. topic:: References\n",
      "\n",
      "   - Fisher, R.A. \"The use of multiple measurements in taxonomic problems\"\n",
      "     Annual Eugenics, 7, Part II, 179-188 (1936); also in \"Contributions to\n",
      "     Mathematical Statistics\" (John Wiley, NY, 1950).\n",
      "   - Duda, R.O., & Hart, P.E. (1973) Pattern Classification and Scene Analysis.\n",
      "     (Q327.D83) John Wiley & Sons.  ISBN 0-471-22361-1.  See page 218.\n",
      "   - Dasarathy, B.V. (1980) \"Nosing Around the Neighborhood: A New System\n",
      "     Structure and Classification Rule for Recognition in Partially Exposed\n",
      "     Environments\".  IEEE Transactions on Pattern Analysis and Machine\n",
      "     Intelligence, Vol. PAMI-2, No. 1, 67-71.\n",
      "   - Gates, G.W. (1972) \"The Reduced Nearest Neighbor Rule\".  IEEE Transactions\n",
      "     on Information Theory, May 1972, 431-433.\n",
      "   - See also: 1988 MLC Proceedings, 54-64.  Cheeseman et al\"s AUTOCLASS II\n",
      "     conceptual clustering system finds 3 classes in the data.\n",
      "   - Many, many more ...\n"
     ]
    }
   ],
   "source": [
    "data_iris = datasets.load_iris()\n",
    "print(data_iris['DESCR'])"
   ]
  },
  {
   "cell_type": "code",
   "execution_count": 4,
   "id": "e6c0601d-0393-40c5-8fa8-92af2989b9f4",
   "metadata": {},
   "outputs": [],
   "source": [
    "import pandas as pd\n",
    "import numpy as np\n",
    "cancer_df_X = pd.DataFrame(data=data_breast_cancer['data'], columns= data_breast_cancer['feature_names'])\n",
    "cancer_df_y = pd.DataFrame(data=data_breast_cancer['target'], columns=['target'])"
   ]
  },
  {
   "cell_type": "code",
   "execution_count": 5,
   "id": "f5ac6ce0-219f-44b1-b3e7-2d7d3e8a6b88",
   "metadata": {},
   "outputs": [],
   "source": [
    "cancer_df_X = cancer_df_X[['mean area', 'mean smoothness']]"
   ]
  },
  {
   "cell_type": "code",
   "execution_count": 6,
   "id": "bce28445-4780-4e9d-ab5b-4366ef147f31",
   "metadata": {},
   "outputs": [],
   "source": [
    "from sklearn.model_selection import train_test_split\n",
    "X_cancer_train, X_cancer_test, y_cancer_train, y_cancer_test = train_test_split(cancer_df_X, cancer_df_y, test_size=0.2, random_state=42)"
   ]
  },
  {
   "cell_type": "code",
   "execution_count": 7,
   "id": "2d9f3e06-f6dc-4580-91a1-1f650661aa64",
   "metadata": {},
   "outputs": [],
   "source": [
    "from sklearn.svm import LinearSVC\n",
    "from sklearn.pipeline import Pipeline\n",
    "from sklearn.preprocessing import StandardScaler\n",
    "clf_svc = LinearSVC(C=1, loss='hinge', random_state=42)\n",
    "svc_scaled = Pipeline([('scaler', StandardScaler()), ('linear_svc', LinearSVC(C=1, loss='hinge', random_state=42))])"
   ]
  },
  {
   "cell_type": "code",
   "execution_count": 8,
   "id": "56f3c44d-9d55-4c36-ac4d-1350ff2a18c7",
   "metadata": {},
   "outputs": [
    {
     "name": "stderr",
     "output_type": "stream",
     "text": [
      "/opt/homebrew/Caskroom/miniforge/base/envs/ml/lib/python3.9/site-packages/sklearn/utils/validation.py:993: DataConversionWarning: A column-vector y was passed when a 1d array was expected. Please change the shape of y to (n_samples, ), for example using ravel().\n",
      "  y = column_or_1d(y, warn=True)\n",
      "/opt/homebrew/Caskroom/miniforge/base/envs/ml/lib/python3.9/site-packages/sklearn/svm/_base.py:1206: ConvergenceWarning: Liblinear failed to converge, increase the number of iterations.\n",
      "  warnings.warn(\n",
      "/opt/homebrew/Caskroom/miniforge/base/envs/ml/lib/python3.9/site-packages/sklearn/utils/validation.py:993: DataConversionWarning: A column-vector y was passed when a 1d array was expected. Please change the shape of y to (n_samples, ), for example using ravel().\n",
      "  y = column_or_1d(y, warn=True)\n"
     ]
    },
    {
     "data": {
      "text/plain": [
       "Pipeline(steps=[('scaler', StandardScaler()),\n",
       "                ('linear_svc', LinearSVC(C=1, loss='hinge', random_state=42))])"
      ]
     },
     "execution_count": 8,
     "metadata": {},
     "output_type": "execute_result"
    }
   ],
   "source": [
    "clf_svc.fit(X_cancer_train, y_cancer_train)\n",
    "svc_scaled.fit(X_cancer_train, y_cancer_train)"
   ]
  },
  {
   "cell_type": "code",
   "execution_count": 9,
   "id": "97a2016f-c373-4c2c-ad56-33fc646c473c",
   "metadata": {},
   "outputs": [],
   "source": [
    "clf_svc_predicted_train = clf_svc.predict(X_cancer_train)\n",
    "clf_svc_predicted_test = clf_svc.predict(X_cancer_test)\n",
    "svc_scaled_predicted_train = svc_scaled.predict(X_cancer_train)\n",
    "svc_scaled_predicted_test = svc_scaled.predict(X_cancer_test)"
   ]
  },
  {
   "cell_type": "code",
   "execution_count": 10,
   "id": "36a76183-0189-474b-b467-bb6162b05019",
   "metadata": {},
   "outputs": [],
   "source": [
    "from sklearn.metrics import accuracy_score\n",
    "clf_svc_accuracy_train = accuracy_score(y_cancer_train, clf_svc_predicted_train)\n",
    "clf_svc_accuracy_test = accuracy_score(y_cancer_test, clf_svc_predicted_test)\n",
    "svc_scaled_accuracy_train = accuracy_score(y_cancer_train, svc_scaled_predicted_train)\n",
    "svc_scaled_accuracy_test = accuracy_score(y_cancer_test, svc_scaled_predicted_test)"
   ]
  },
  {
   "cell_type": "code",
   "execution_count": 11,
   "id": "2702ee19-53fa-42a3-b5a4-0c8c38320c28",
   "metadata": {},
   "outputs": [],
   "source": [
    "pickle_list = [clf_svc_accuracy_train, clf_svc_accuracy_test, svc_scaled_accuracy_train, svc_scaled_accuracy_test]"
   ]
  },
  {
   "cell_type": "code",
   "execution_count": 12,
   "id": "9ff21f59-59a7-43cc-bb35-5fe529a24398",
   "metadata": {},
   "outputs": [],
   "source": [
    "import pickle\n",
    "with open('bc_acc.pkl', 'wb') as acc_pickle:\n",
    "    pickle.dump(pickle_list, acc_pickle)"
   ]
  },
  {
   "cell_type": "code",
   "execution_count": 13,
   "id": "5cc24d08-ced4-4cd6-8b2c-28deca601457",
   "metadata": {},
   "outputs": [],
   "source": [
    "iris_df_X = pd.DataFrame(data=data_iris['data'], columns= data_iris['feature_names'])\n",
    "iris_df_y = pd.DataFrame(data=data_iris['target'], columns=['target'])"
   ]
  },
  {
   "cell_type": "code",
   "execution_count": 14,
   "id": "42dd9cf9-506d-4175-9cd0-34c3e9ac24ea",
   "metadata": {},
   "outputs": [],
   "source": [
    "iris_df_X = iris_df_X[['petal length (cm)', 'petal width (cm)']]"
   ]
  },
  {
   "cell_type": "code",
   "execution_count": 15,
   "id": "805a9b79-f512-42a1-954c-9b37c59a52e5",
   "metadata": {},
   "outputs": [],
   "source": [
    "X_iris_train, X_iris_test, y_iris_train, y_iris_test = train_test_split(iris_df_X, iris_df_y, test_size=0.2, random_state=42)"
   ]
  },
  {
   "cell_type": "code",
   "execution_count": 16,
   "id": "b83e32a1-3901-49ee-82e8-685f47384869",
   "metadata": {},
   "outputs": [],
   "source": [
    "clf_svc_iris = LinearSVC(C=1, loss='hinge', random_state=42)\n",
    "svc_scaled_iris = Pipeline([('scaler', StandardScaler()), ('linear_svc', LinearSVC(C=1, loss='hinge', random_state=42))])"
   ]
  },
  {
   "cell_type": "code",
   "execution_count": 17,
   "id": "3eb1e07a-fa76-41bb-adb7-12d6c678fe4f",
   "metadata": {},
   "outputs": [
    {
     "name": "stderr",
     "output_type": "stream",
     "text": [
      "/opt/homebrew/Caskroom/miniforge/base/envs/ml/lib/python3.9/site-packages/sklearn/utils/validation.py:993: DataConversionWarning: A column-vector y was passed when a 1d array was expected. Please change the shape of y to (n_samples, ), for example using ravel().\n",
      "  y = column_or_1d(y, warn=True)\n",
      "/opt/homebrew/Caskroom/miniforge/base/envs/ml/lib/python3.9/site-packages/sklearn/svm/_base.py:1206: ConvergenceWarning: Liblinear failed to converge, increase the number of iterations.\n",
      "  warnings.warn(\n",
      "/opt/homebrew/Caskroom/miniforge/base/envs/ml/lib/python3.9/site-packages/sklearn/utils/validation.py:993: DataConversionWarning: A column-vector y was passed when a 1d array was expected. Please change the shape of y to (n_samples, ), for example using ravel().\n",
      "  y = column_or_1d(y, warn=True)\n"
     ]
    },
    {
     "data": {
      "text/plain": [
       "Pipeline(steps=[('scaler', StandardScaler()),\n",
       "                ('linear_svc', LinearSVC(C=1, loss='hinge', random_state=42))])"
      ]
     },
     "execution_count": 17,
     "metadata": {},
     "output_type": "execute_result"
    }
   ],
   "source": [
    "clf_svc_iris.fit(X_iris_train, y_iris_train)\n",
    "svc_scaled_iris.fit(X_iris_train, y_iris_train)"
   ]
  },
  {
   "cell_type": "code",
   "execution_count": 18,
   "id": "ebe831ca-0d4e-48d6-8149-92753d0300f8",
   "metadata": {},
   "outputs": [],
   "source": [
    "iris_clf_svc_predicted_train = clf_svc_iris.predict(X_iris_train)\n",
    "iris_clf_svc_predicted_test = clf_svc_iris.predict(X_iris_test)\n",
    "iris_svc_scaled_predicted_train = svc_scaled_iris.predict(X_iris_train)\n",
    "iris_svc_scaled_predicted_test = svc_scaled_iris.predict(X_iris_test)"
   ]
  },
  {
   "cell_type": "code",
   "execution_count": 19,
   "id": "bdd9c57f-b46d-4513-b02a-bf45c55caf69",
   "metadata": {},
   "outputs": [],
   "source": [
    "iris_clf_svc_accuracy_train = accuracy_score(y_iris_train, iris_clf_svc_predicted_train)\n",
    "iris_clf_svc_accuracy_test = accuracy_score(y_iris_test, iris_clf_svc_predicted_test)\n",
    "iris_svc_scaled_accuracy_train = accuracy_score(y_iris_train, iris_svc_scaled_predicted_train)\n",
    "iris_svc_scaled_accuracy_test = accuracy_score(y_iris_test, iris_svc_scaled_predicted_test)"
   ]
  },
  {
   "cell_type": "code",
   "execution_count": 20,
   "id": "6b8340a5-b48d-481d-9a91-11d02b0e0ef9",
   "metadata": {},
   "outputs": [],
   "source": [
    "pickle_list_iris = [iris_clf_svc_accuracy_train, iris_clf_svc_accuracy_test, iris_svc_scaled_accuracy_train, iris_svc_scaled_accuracy_test]"
   ]
  },
  {
   "cell_type": "code",
   "execution_count": 21,
   "id": "07188576-d7e7-46f4-ac64-40e86712b129",
   "metadata": {},
   "outputs": [],
   "source": [
    "import pickle\n",
    "with open('iris_acc.pkl', 'wb') as acc_pickle_iris:\n",
    "    pickle.dump(pickle_list_iris, acc_pickle_iris)"
   ]
  }
 ],
 "metadata": {
  "kernelspec": {
   "display_name": "Python 3 (ipykernel)",
   "language": "python",
   "name": "python3"
  },
  "language_info": {
   "codemirror_mode": {
    "name": "ipython",
    "version": 3
   },
   "file_extension": ".py",
   "mimetype": "text/x-python",
   "name": "python",
   "nbconvert_exporter": "python",
   "pygments_lexer": "ipython3",
   "version": "3.10.9"
  }
 },
 "nbformat": 4,
 "nbformat_minor": 5
}
