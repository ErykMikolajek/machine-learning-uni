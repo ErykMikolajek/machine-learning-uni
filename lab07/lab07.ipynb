{
 "cells": [
  {
   "cell_type": "code",
   "execution_count": 1,
   "id": "708bfd89-86e4-4ade-a2ac-f50312b2f33c",
   "metadata": {},
   "outputs": [],
   "source": [
    "from sklearn.datasets import fetch_openml\n",
    "import numpy as np\n",
    "mnist = fetch_openml('mnist_784', version=1, as_frame=False, parser='auto') \n",
    "mnist.target = mnist.target.astype(np.uint8)\n",
    "X = mnist[\"data\"]\n",
    "y = mnist[\"target\"]"
   ]
  },
  {
   "cell_type": "code",
   "execution_count": 2,
   "id": "7684e64f-bce3-432a-9329-c6c8578498b3",
   "metadata": {},
   "outputs": [
    {
     "name": "stderr",
     "output_type": "stream",
     "text": [
      "/Users/eryk/miniconda3/envs/ml/lib/python3.10/site-packages/sklearn/cluster/_kmeans.py:870: FutureWarning: The default value of `n_init` will change from 10 to 'auto' in 1.4. Set the value of `n_init` explicitly to suppress the warning\n",
      "  warnings.warn(\n",
      "/Users/eryk/miniconda3/envs/ml/lib/python3.10/site-packages/sklearn/cluster/_kmeans.py:870: FutureWarning: The default value of `n_init` will change from 10 to 'auto' in 1.4. Set the value of `n_init` explicitly to suppress the warning\n",
      "  warnings.warn(\n",
      "/Users/eryk/miniconda3/envs/ml/lib/python3.10/site-packages/sklearn/cluster/_kmeans.py:870: FutureWarning: The default value of `n_init` will change from 10 to 'auto' in 1.4. Set the value of `n_init` explicitly to suppress the warning\n",
      "  warnings.warn(\n",
      "/Users/eryk/miniconda3/envs/ml/lib/python3.10/site-packages/sklearn/cluster/_kmeans.py:870: FutureWarning: The default value of `n_init` will change from 10 to 'auto' in 1.4. Set the value of `n_init` explicitly to suppress the warning\n",
      "  warnings.warn(\n",
      "/Users/eryk/miniconda3/envs/ml/lib/python3.10/site-packages/sklearn/cluster/_kmeans.py:870: FutureWarning: The default value of `n_init` will change from 10 to 'auto' in 1.4. Set the value of `n_init` explicitly to suppress the warning\n",
      "  warnings.warn(\n"
     ]
    }
   ],
   "source": [
    "from sklearn.cluster import KMeans\n",
    "\n",
    "kmeans = []\n",
    "predictions = []\n",
    "for k in range(8, 13):\n",
    "    kmeans.append(KMeans(n_clusters=k, random_state=42))\n",
    "    predictions.append(kmeans[-1].fit_predict(X))"
   ]
  },
  {
   "cell_type": "code",
   "execution_count": 3,
   "id": "b66fac98-8414-4f78-a0e6-cd6fb8923183",
   "metadata": {},
   "outputs": [],
   "source": [
    "from sklearn.metrics import silhouette_score\n",
    "\n",
    "silhouettes = []\n",
    "for k in range(8, 13):\n",
    "    silhouettes.append(silhouette_score(X, kmeans[k-8].labels_))"
   ]
  },
  {
   "cell_type": "code",
   "execution_count": 4,
   "id": "dc6a78bb-11d4-4d57-8625-09d984fa7ff7",
   "metadata": {},
   "outputs": [],
   "source": [
    "import pickle\n",
    "\n",
    "with open('kmeans_sil.pkl', 'wb') as sil_pickle:\n",
    "    pickle.dump(silhouettes, sil_pickle)"
   ]
  },
  {
   "cell_type": "code",
   "execution_count": 5,
   "id": "d13bb38a-24ee-43df-b054-a0232f0db02e",
   "metadata": {},
   "outputs": [
    {
     "data": {
      "text/plain": [
       "array([[ 290,    2, 1265,   39,    9,    7,  162,    4,   72, 5053],\n",
       "       [   8, 4293,    7,    7,   10,   11,    7, 3526,    8,    0],\n",
       "       [ 323,  423,  246,  216, 4863,   78,  147,  436,  201,   57],\n",
       "       [4581,  449,  461,  193,  216,   45,   31,   58, 1083,   24],\n",
       "       [   0,  178,  288, 3728,   29, 2173,  168,  234,   17,    9],\n",
       "       [2129,  155, 1812,  432,    7,  215,   67,  280, 1156,   60],\n",
       "       [  38,  190, 2068,   67,   53,    4, 4326,   45,   14,   71],\n",
       "       [   6,  372,   12, 2094,   53, 4399,    4,  314,   18,   21],\n",
       "       [1212,  335,  292,  208,   53,  193,   51,  330, 4115,   36],\n",
       "       [  87,  261,   31, 3462,   19, 2849,   16,   95,   87,   51]])"
      ]
     },
     "execution_count": 5,
     "metadata": {},
     "output_type": "execute_result"
    }
   ],
   "source": [
    "from sklearn.metrics import confusion_matrix\n",
    "\n",
    "kmeans_10 = kmeans[2]\n",
    "y_pred = predictions[2]\n",
    "\n",
    "matrix = confusion_matrix(y, y_pred)\n",
    "matrix"
   ]
  },
  {
   "cell_type": "code",
   "execution_count": 6,
   "id": "776a2292-23ba-4a2e-885d-9557c238be49",
   "metadata": {},
   "outputs": [],
   "source": [
    "max_index = set(np.argmax(matrix, axis=1))\n",
    "max_index = list(max_index)"
   ]
  },
  {
   "cell_type": "code",
   "execution_count": 7,
   "id": "ce7df947-77e1-4af3-85c0-d5f47f637932",
   "metadata": {},
   "outputs": [],
   "source": [
    "with open('kmeans_argmax.pkl', 'wb') as args_pickle:\n",
    "    pickle.dump(max_index, args_pickle)"
   ]
  },
  {
   "cell_type": "code",
   "execution_count": 8,
   "id": "b0f6f947-b131-46d6-a839-4e2eaabf02a8",
   "metadata": {},
   "outputs": [
    {
     "name": "stdout",
     "output_type": "stream",
     "text": [
      "[[0 0 0 ... 0 0 0]\n",
      " [0 0 0 ... 0 0 0]\n",
      " [0 0 0 ... 0 0 0]\n",
      " ...\n",
      " [0 0 0 ... 0 0 0]\n",
      " [0 0 0 ... 0 0 0]\n",
      " [0 0 0 ... 0 0 0]]\n"
     ]
    },
    {
     "data": {
      "text/plain": [
       "70000"
      ]
     },
     "execution_count": 8,
     "metadata": {},
     "output_type": "execute_result"
    }
   ],
   "source": [
    "print(X)\n",
    "X.shape[0]"
   ]
  },
  {
   "cell_type": "code",
   "execution_count": 13,
   "id": "86fb020b-8a24-4b57-abb4-ecb1e912f1c9",
   "metadata": {},
   "outputs": [],
   "source": [
    "distances = np.zeros((300,X.shape[0]))\n",
    "for i in range(300):\n",
    "    for j in range(X.shape[0]):\n",
    "        dist = np.linalg.norm(X[i] - X[j])\n",
    "        if dist != 0:\n",
    "            distances[i, j] = dist\n",
    "        else:\n",
    "            distances[i, j] = np.inf"
   ]
  },
  {
   "cell_type": "code",
   "execution_count": 19,
   "id": "84d653f5",
   "metadata": {},
   "outputs": [
    {
     "name": "stdout",
     "output_type": "stream",
     "text": [
      "[279.26152617215286, 304.37641170103836, 317.5893575043093, 328.7658741414626, 333.4546445920344, 352.89800226127664, 355.1774204534967, 358.07401469528617, 359.64287842247063, 360.42474942767177]\n"
     ]
    }
   ],
   "source": [
    "smallest_distances = sorted(distances.ravel())[:10]\n",
    "print(smallest_distances)"
   ]
  },
  {
   "cell_type": "code",
   "execution_count": 20,
   "id": "7393ecdf",
   "metadata": {},
   "outputs": [],
   "source": [
    "with open('dist.pkl', 'wb') as dist_pickle:\n",
    "    pickle.dump(smallest_distances, dist_pickle)"
   ]
  },
  {
   "cell_type": "code",
   "execution_count": 26,
   "id": "80f76e69",
   "metadata": {},
   "outputs": [],
   "source": [
    "smallest_3 = smallest_distances[:3]\n",
    "s = np.mean(smallest_3)"
   ]
  },
  {
   "cell_type": "code",
   "execution_count": 31,
   "id": "387ed7cb",
   "metadata": {},
   "outputs": [
    {
     "name": "stdout",
     "output_type": "stream",
     "text": [
      "iteration\n",
      "iteration\n",
      "iteration\n"
     ]
    }
   ],
   "source": [
    "from sklearn.cluster import DBSCAN\n",
    "dbscan_len = []\n",
    "step = s\n",
    "while step < s + 0.10 * s:\n",
    "    dbscan = DBSCAN(eps=step)\n",
    "    dbscan.fit(X)\n",
    "    dbscan_len.append(len(set(dbscan.labels_)))\n",
    "    step += 0.04 * s"
   ]
  },
  {
   "cell_type": "code",
   "execution_count": 33,
   "id": "6eae012d",
   "metadata": {},
   "outputs": [],
   "source": [
    "with open('dbscan_len.pkl', 'wb') as dbscan_pickle:\n",
    "    pickle.dump(dbscan_len, dbscan_pickle)"
   ]
  },
  {
   "cell_type": "code",
   "execution_count": null,
   "id": "da1b6296",
   "metadata": {},
   "outputs": [],
   "source": []
  }
 ],
 "metadata": {
  "kernelspec": {
   "display_name": "Python 3 (ipykernel)",
   "language": "python",
   "name": "python3"
  },
  "language_info": {
   "codemirror_mode": {
    "name": "ipython",
    "version": 3
   },
   "file_extension": ".py",
   "mimetype": "text/x-python",
   "name": "python",
   "nbconvert_exporter": "python",
   "pygments_lexer": "ipython3",
   "version": "3.10.9"
  }
 },
 "nbformat": 4,
 "nbformat_minor": 5
}
