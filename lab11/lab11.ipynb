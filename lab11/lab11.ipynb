{
 "cells": [
  {
   "cell_type": "code",
   "execution_count": 1,
   "metadata": {},
   "outputs": [],
   "source": [
    "from sklearn.datasets import fetch_california_housing\n",
    "from sklearn.model_selection import train_test_split\n",
    "from sklearn.preprocessing import StandardScaler\n",
    "\n",
    "housing = fetch_california_housing()\n",
    "\n",
    "X_train_full, X_test, y_train_full, y_test = train_test_split(housing.data, housing.target, random_state=42)\n",
    "X_train, X_valid, y_train, y_valid = train_test_split(X_train_full, y_train_full, random_state=42)\n",
    "\n",
    "scaler = StandardScaler()\n",
    "X_train = scaler.fit_transform(X_train)\n",
    "X_valid = scaler.transform(X_valid)\n",
    "X_test = scaler.transform(X_test)"
   ]
  },
  {
   "cell_type": "code",
   "execution_count": 2,
   "metadata": {},
   "outputs": [],
   "source": [
    "from scipy.stats import reciprocal\n",
    "\n",
    "param_distribs = {\n",
    "\"model__n_hidden\": range(4),\n",
    "\"model__n_neurons\": range(1, 101),\n",
    "\"model__learning_rate\": reciprocal(3e-4, 3e-2).rvs(1000).tolist(),\n",
    "\"model__optimizer\": ['adam', 'sgd', 'nesterov']\n",
    "}"
   ]
  },
  {
   "cell_type": "code",
   "execution_count": 3,
   "metadata": {},
   "outputs": [],
   "source": [
    "import tensorflow as tf\n",
    "from tensorflow import keras\n",
    "\n",
    "def build_model(n_hidden, n_neurons, optimizer, learning_rate):\n",
    "    model = tf.keras.models.Sequential()\n",
    "    model.add(keras.layers.InputLayer(X_train.shape[1]))\n",
    "    for _ in range(n_hidden):\n",
    "        model.add(keras.layers.Dense(n_neurons))\n",
    "    model.add(keras.layers.Dense(1))\n",
    "    if optimizer == 'sgd':\n",
    "        my_optimizer = keras.optimizers.SGD(learning_rate=learning_rate, clipvalue=0.9)\n",
    "    elif optimizer == 'nesterov':\n",
    "        my_optimizer = keras.optimizers.SGD(learning_rate=learning_rate, nesterov=True, clipvalue=0.9)\n",
    "    elif optimizer == 'adam':\n",
    "        my_optimizer = keras.optimizers.Adam(learning_rate=learning_rate, clipvalue=0.9)\n",
    "    else:\n",
    "        my_optimizer = keras.optimizers.get(optimizer, learning_rate=learning_rate, clipvalue=0.9)\n",
    "    model.compile(loss='mse', optimizer=my_optimizer)\n",
    "    return model"
   ]
  },
  {
   "cell_type": "code",
   "execution_count": 4,
   "metadata": {},
   "outputs": [],
   "source": [
    "import scikeras\n",
    "from scikeras.wrappers import KerasRegressor\n",
    "\n",
    "es = tf.keras.callbacks.EarlyStopping(patience=10, min_delta=1.0, verbose=1)\n",
    "keras_reg = KerasRegressor(build_model, callbacks=[es])"
   ]
  },
  {
   "cell_type": "code",
   "execution_count": 5,
   "metadata": {},
   "outputs": [
    {
     "name": "stdout",
     "output_type": "stream",
     "text": [
      "Fitting 3 folds for each of 10 candidates, totalling 30 fits\n"
     ]
    },
    {
     "name": "stderr",
     "output_type": "stream",
     "text": [
      "2023-06-13 15:34:39.579882: W tensorflow/tsl/platform/profile_utils/cpu_utils.cc:128] Failed to get CPU frequency: 0 Hz\n"
     ]
    },
    {
     "name": "stdout",
     "output_type": "stream",
     "text": [
      "Epoch 22: early stopping\n",
      "121/121 [==============================] - 0s 285us/step\n",
      "[CV] END model__learning_rate=0.0005524317430207671, model__n_hidden=2, model__n_neurons=51, model__optimizer=adam; total time=   3.2s\n",
      "Epoch 11: early stopping\n",
      "121/121 [==============================] - 0s 281us/step\n",
      "[CV] END model__learning_rate=0.0005524317430207671, model__n_hidden=2, model__n_neurons=51, model__optimizer=adam; total time=   1.7s\n",
      "Epoch 16: early stopping\n",
      "121/121 [==============================] - 0s 335us/step\n",
      "[CV] END model__learning_rate=0.0005524317430207671, model__n_hidden=2, model__n_neurons=51, model__optimizer=adam; total time=   2.6s\n",
      "Epoch 21: early stopping\n",
      "121/121 [==============================] - 0s 298us/step\n",
      "[CV] END model__learning_rate=0.006127962092685077, model__n_hidden=3, model__n_neurons=71, model__optimizer=adam; total time=   3.3s\n",
      "Epoch 13: early stopping\n",
      "121/121 [==============================] - 0s 302us/step\n",
      "[CV] END model__learning_rate=0.006127962092685077, model__n_hidden=3, model__n_neurons=71, model__optimizer=adam; total time=   2.3s\n",
      "Epoch 13: early stopping\n",
      "121/121 [==============================] - 0s 307us/step\n",
      "[CV] END model__learning_rate=0.006127962092685077, model__n_hidden=3, model__n_neurons=71, model__optimizer=adam; total time=   2.2s\n",
      "Epoch 13: early stopping\n",
      "121/121 [==============================] - 0s 302us/step\n",
      "[CV] END model__learning_rate=0.013038298063333648, model__n_hidden=3, model__n_neurons=36, model__optimizer=sgd; total time=   1.8s\n",
      "Epoch 33: early stopping\n",
      "121/121 [==============================] - 0s 297us/step\n",
      "[CV] END model__learning_rate=0.013038298063333648, model__n_hidden=3, model__n_neurons=36, model__optimizer=sgd; total time=   4.0s\n",
      "Epoch 15: early stopping\n",
      "121/121 [==============================] - 0s 292us/step\n",
      "[CV] END model__learning_rate=0.013038298063333648, model__n_hidden=3, model__n_neurons=36, model__optimizer=sgd; total time=   2.0s\n",
      "Epoch 12: early stopping\n",
      "121/121 [==============================] - 0s 299us/step\n",
      "[CV] END model__learning_rate=0.013444407659588604, model__n_hidden=3, model__n_neurons=30, model__optimizer=sgd; total time=   1.7s\n",
      "Epoch 11: early stopping\n",
      "121/121 [==============================] - 0s 301us/step\n",
      "[CV] END model__learning_rate=0.013444407659588604, model__n_hidden=3, model__n_neurons=30, model__optimizer=sgd; total time=   1.6s\n",
      "Epoch 12: early stopping\n",
      "121/121 [==============================] - 0s 298us/step\n",
      "[CV] END model__learning_rate=0.013444407659588604, model__n_hidden=3, model__n_neurons=30, model__optimizer=sgd; total time=   1.7s\n",
      "Epoch 11: early stopping\n",
      "121/121 [==============================] - 0s 286us/step\n",
      "[CV] END model__learning_rate=0.001221556161152156, model__n_hidden=2, model__n_neurons=61, model__optimizer=sgd; total time=   1.5s\n",
      "Epoch 11: early stopping\n",
      "121/121 [==============================] - 0s 282us/step\n",
      "[CV] END model__learning_rate=0.001221556161152156, model__n_hidden=2, model__n_neurons=61, model__optimizer=sgd; total time=   1.5s\n",
      "Epoch 17: early stopping\n",
      "121/121 [==============================] - 0s 281us/step\n",
      "[CV] END model__learning_rate=0.001221556161152156, model__n_hidden=2, model__n_neurons=61, model__optimizer=sgd; total time=   2.3s\n",
      "Epoch 15: early stopping\n",
      "121/121 [==============================] - 0s 279us/step\n",
      "[CV] END model__learning_rate=0.029464293533826638, model__n_hidden=1, model__n_neurons=78, model__optimizer=nesterov; total time=   1.9s\n",
      "Epoch 17: early stopping\n",
      "121/121 [==============================] - 0s 268us/step\n",
      "[CV] END model__learning_rate=0.029464293533826638, model__n_hidden=1, model__n_neurons=78, model__optimizer=nesterov; total time=   2.1s\n",
      "Epoch 28: early stopping\n",
      "121/121 [==============================] - 0s 263us/step\n",
      "[CV] END model__learning_rate=0.029464293533826638, model__n_hidden=1, model__n_neurons=78, model__optimizer=nesterov; total time=   3.3s\n",
      "Epoch 26: early stopping\n",
      "121/121 [==============================] - 0s 245us/step\n",
      "[CV] END model__learning_rate=0.0004907787134413019, model__n_hidden=0, model__n_neurons=48, model__optimizer=sgd; total time=   2.8s\n",
      "Epoch 21: early stopping\n",
      "121/121 [==============================] - 0s 274us/step\n",
      "[CV] END model__learning_rate=0.0004907787134413019, model__n_hidden=0, model__n_neurons=48, model__optimizer=sgd; total time=   2.3s\n",
      "Epoch 23: early stopping\n",
      "121/121 [==============================] - 0s 262us/step\n",
      "[CV] END model__learning_rate=0.0004907787134413019, model__n_hidden=0, model__n_neurons=48, model__optimizer=sgd; total time=   2.6s\n",
      "Epoch 11: early stopping\n",
      "121/121 [==============================] - 0s 270us/step\n",
      "[CV] END model__learning_rate=0.0005009823237745094, model__n_hidden=1, model__n_neurons=52, model__optimizer=adam; total time=   1.6s\n",
      "Epoch 28: early stopping\n",
      "121/121 [==============================] - 0s 273us/step\n",
      "[CV] END model__learning_rate=0.0005009823237745094, model__n_hidden=1, model__n_neurons=52, model__optimizer=adam; total time=   3.7s\n",
      "Epoch 16: early stopping\n",
      "121/121 [==============================] - 0s 263us/step\n",
      "[CV] END model__learning_rate=0.0005009823237745094, model__n_hidden=1, model__n_neurons=52, model__optimizer=adam; total time=   2.1s\n",
      "Epoch 11: early stopping\n",
      "121/121 [==============================] - 0s 297us/step\n",
      "[CV] END model__learning_rate=0.014303119523889614, model__n_hidden=3, model__n_neurons=56, model__optimizer=nesterov; total time=   1.6s\n",
      "Epoch 12: early stopping\n",
      "121/121 [==============================] - 0s 296us/step\n",
      "[CV] END model__learning_rate=0.014303119523889614, model__n_hidden=3, model__n_neurons=56, model__optimizer=nesterov; total time=   1.7s\n",
      "Epoch 14: early stopping\n",
      "121/121 [==============================] - 0s 296us/step\n",
      "[CV] END model__learning_rate=0.014303119523889614, model__n_hidden=3, model__n_neurons=56, model__optimizer=nesterov; total time=   2.1s\n",
      "Epoch 11: early stopping\n",
      "121/121 [==============================] - 0s 282us/step\n",
      "[CV] END model__learning_rate=0.0006325378941006999, model__n_hidden=2, model__n_neurons=73, model__optimizer=nesterov; total time=   1.6s\n",
      "Epoch 11: early stopping\n",
      "121/121 [==============================] - 0s 293us/step\n",
      "[CV] END model__learning_rate=0.0006325378941006999, model__n_hidden=2, model__n_neurons=73, model__optimizer=nesterov; total time=   1.5s\n",
      "Epoch 11: early stopping\n",
      "121/121 [==============================] - 0s 279us/step\n",
      "[CV] END model__learning_rate=0.0006325378941006999, model__n_hidden=2, model__n_neurons=73, model__optimizer=nesterov; total time=   1.5s\n",
      "Epoch 17: early stopping\n"
     ]
    },
    {
     "data": {
      "text/html": [
       "<style>#sk-container-id-1 {color: black;background-color: white;}#sk-container-id-1 pre{padding: 0;}#sk-container-id-1 div.sk-toggleable {background-color: white;}#sk-container-id-1 label.sk-toggleable__label {cursor: pointer;display: block;width: 100%;margin-bottom: 0;padding: 0.3em;box-sizing: border-box;text-align: center;}#sk-container-id-1 label.sk-toggleable__label-arrow:before {content: \"▸\";float: left;margin-right: 0.25em;color: #696969;}#sk-container-id-1 label.sk-toggleable__label-arrow:hover:before {color: black;}#sk-container-id-1 div.sk-estimator:hover label.sk-toggleable__label-arrow:before {color: black;}#sk-container-id-1 div.sk-toggleable__content {max-height: 0;max-width: 0;overflow: hidden;text-align: left;background-color: #f0f8ff;}#sk-container-id-1 div.sk-toggleable__content pre {margin: 0.2em;color: black;border-radius: 0.25em;background-color: #f0f8ff;}#sk-container-id-1 input.sk-toggleable__control:checked~div.sk-toggleable__content {max-height: 200px;max-width: 100%;overflow: auto;}#sk-container-id-1 input.sk-toggleable__control:checked~label.sk-toggleable__label-arrow:before {content: \"▾\";}#sk-container-id-1 div.sk-estimator input.sk-toggleable__control:checked~label.sk-toggleable__label {background-color: #d4ebff;}#sk-container-id-1 div.sk-label input.sk-toggleable__control:checked~label.sk-toggleable__label {background-color: #d4ebff;}#sk-container-id-1 input.sk-hidden--visually {border: 0;clip: rect(1px 1px 1px 1px);clip: rect(1px, 1px, 1px, 1px);height: 1px;margin: -1px;overflow: hidden;padding: 0;position: absolute;width: 1px;}#sk-container-id-1 div.sk-estimator {font-family: monospace;background-color: #f0f8ff;border: 1px dotted black;border-radius: 0.25em;box-sizing: border-box;margin-bottom: 0.5em;}#sk-container-id-1 div.sk-estimator:hover {background-color: #d4ebff;}#sk-container-id-1 div.sk-parallel-item::after {content: \"\";width: 100%;border-bottom: 1px solid gray;flex-grow: 1;}#sk-container-id-1 div.sk-label:hover label.sk-toggleable__label {background-color: #d4ebff;}#sk-container-id-1 div.sk-serial::before {content: \"\";position: absolute;border-left: 1px solid gray;box-sizing: border-box;top: 0;bottom: 0;left: 50%;z-index: 0;}#sk-container-id-1 div.sk-serial {display: flex;flex-direction: column;align-items: center;background-color: white;padding-right: 0.2em;padding-left: 0.2em;position: relative;}#sk-container-id-1 div.sk-item {position: relative;z-index: 1;}#sk-container-id-1 div.sk-parallel {display: flex;align-items: stretch;justify-content: center;background-color: white;position: relative;}#sk-container-id-1 div.sk-item::before, #sk-container-id-1 div.sk-parallel-item::before {content: \"\";position: absolute;border-left: 1px solid gray;box-sizing: border-box;top: 0;bottom: 0;left: 50%;z-index: -1;}#sk-container-id-1 div.sk-parallel-item {display: flex;flex-direction: column;z-index: 1;position: relative;background-color: white;}#sk-container-id-1 div.sk-parallel-item:first-child::after {align-self: flex-end;width: 50%;}#sk-container-id-1 div.sk-parallel-item:last-child::after {align-self: flex-start;width: 50%;}#sk-container-id-1 div.sk-parallel-item:only-child::after {width: 0;}#sk-container-id-1 div.sk-dashed-wrapped {border: 1px dashed gray;margin: 0 0.4em 0.5em 0.4em;box-sizing: border-box;padding-bottom: 0.4em;background-color: white;}#sk-container-id-1 div.sk-label label {font-family: monospace;font-weight: bold;display: inline-block;line-height: 1.2em;}#sk-container-id-1 div.sk-label-container {text-align: center;}#sk-container-id-1 div.sk-container {/* jupyter's `normalize.less` sets `[hidden] { display: none; }` but bootstrap.min.css set `[hidden] { display: none !important; }` so we also need the `!important` here to be able to override the default hidden behavior on the sphinx rendered scikit-learn.org. See: https://github.com/scikit-learn/scikit-learn/issues/21755 */display: inline-block !important;position: relative;}#sk-container-id-1 div.sk-text-repr-fallback {display: none;}</style><div id=\"sk-container-id-1\" class=\"sk-top-container\"><div class=\"sk-text-repr-fallback\"><pre>RandomizedSearchCV(cv=3,\n",
       "                   estimator=KerasRegressor(callbacks=[&lt;keras.callbacks.EarlyStopping object at 0x169d77970&gt;], model=&lt;function build_model at 0x11e1b4d30&gt;),\n",
       "                   param_distributions={&#x27;model__learning_rate&#x27;: [0.0061774637391925685,\n",
       "                                                                 0.00039029074011143016,\n",
       "                                                                 0.02062463835678116,\n",
       "                                                                 0.006550753333505036,\n",
       "                                                                 0.0008443282187165011,\n",
       "                                                                 0.00040550618158762724,\n",
       "                                                                 0.006590622712725471...\n",
       "                                                                 0.0010367426599185935,\n",
       "                                                                 0.006710435190817113,\n",
       "                                                                 0.000785294977408029,\n",
       "                                                                 0.012377781995481014,\n",
       "                                                                 0.0006930168588329453,\n",
       "                                                                 0.010015299160888681,\n",
       "                                                                 0.020856032037687846,\n",
       "                                                                 0.004377480313174592,\n",
       "                                                                 0.008992856950917501,\n",
       "                                                                 0.006127962092685077,\n",
       "                                                                 0.009408004789402678, ...],\n",
       "                                        &#x27;model__n_hidden&#x27;: range(0, 4),\n",
       "                                        &#x27;model__n_neurons&#x27;: range(1, 101),\n",
       "                                        &#x27;model__optimizer&#x27;: [&#x27;adam&#x27;, &#x27;sgd&#x27;,\n",
       "                                                             &#x27;nesterov&#x27;]},\n",
       "                   verbose=2)</pre><b>In a Jupyter environment, please rerun this cell to show the HTML representation or trust the notebook. <br />On GitHub, the HTML representation is unable to render, please try loading this page with nbviewer.org.</b></div><div class=\"sk-container\" hidden><div class=\"sk-item sk-dashed-wrapped\"><div class=\"sk-label-container\"><div class=\"sk-label sk-toggleable\"><input class=\"sk-toggleable__control sk-hidden--visually\" id=\"sk-estimator-id-1\" type=\"checkbox\" ><label for=\"sk-estimator-id-1\" class=\"sk-toggleable__label sk-toggleable__label-arrow\">RandomizedSearchCV</label><div class=\"sk-toggleable__content\"><pre>RandomizedSearchCV(cv=3,\n",
       "                   estimator=KerasRegressor(callbacks=[&lt;keras.callbacks.EarlyStopping object at 0x169d77970&gt;], model=&lt;function build_model at 0x11e1b4d30&gt;),\n",
       "                   param_distributions={&#x27;model__learning_rate&#x27;: [0.0061774637391925685,\n",
       "                                                                 0.00039029074011143016,\n",
       "                                                                 0.02062463835678116,\n",
       "                                                                 0.006550753333505036,\n",
       "                                                                 0.0008443282187165011,\n",
       "                                                                 0.00040550618158762724,\n",
       "                                                                 0.006590622712725471...\n",
       "                                                                 0.0010367426599185935,\n",
       "                                                                 0.006710435190817113,\n",
       "                                                                 0.000785294977408029,\n",
       "                                                                 0.012377781995481014,\n",
       "                                                                 0.0006930168588329453,\n",
       "                                                                 0.010015299160888681,\n",
       "                                                                 0.020856032037687846,\n",
       "                                                                 0.004377480313174592,\n",
       "                                                                 0.008992856950917501,\n",
       "                                                                 0.006127962092685077,\n",
       "                                                                 0.009408004789402678, ...],\n",
       "                                        &#x27;model__n_hidden&#x27;: range(0, 4),\n",
       "                                        &#x27;model__n_neurons&#x27;: range(1, 101),\n",
       "                                        &#x27;model__optimizer&#x27;: [&#x27;adam&#x27;, &#x27;sgd&#x27;,\n",
       "                                                             &#x27;nesterov&#x27;]},\n",
       "                   verbose=2)</pre></div></div></div><div class=\"sk-parallel\"><div class=\"sk-parallel-item\"><div class=\"sk-item\"><div class=\"sk-label-container\"><div class=\"sk-label sk-toggleable\"><input class=\"sk-toggleable__control sk-hidden--visually\" id=\"sk-estimator-id-2\" type=\"checkbox\" ><label for=\"sk-estimator-id-2\" class=\"sk-toggleable__label sk-toggleable__label-arrow\">estimator: KerasRegressor</label><div class=\"sk-toggleable__content\"><pre>KerasRegressor(\n",
       "\tmodel=&lt;function build_model at 0x11e1b4d30&gt;\n",
       "\tbuild_fn=None\n",
       "\twarm_start=False\n",
       "\trandom_state=None\n",
       "\toptimizer=rmsprop\n",
       "\tloss=None\n",
       "\tmetrics=None\n",
       "\tbatch_size=None\n",
       "\tvalidation_batch_size=None\n",
       "\tverbose=1\n",
       "\tcallbacks=[&lt;keras.callbacks.EarlyStopping object at 0x169d77970&gt;]\n",
       "\tvalidation_split=0.0\n",
       "\tshuffle=True\n",
       "\trun_eagerly=False\n",
       "\tepochs=1\n",
       ")</pre></div></div></div><div class=\"sk-serial\"><div class=\"sk-item\"><div class=\"sk-estimator sk-toggleable\"><input class=\"sk-toggleable__control sk-hidden--visually\" id=\"sk-estimator-id-3\" type=\"checkbox\" ><label for=\"sk-estimator-id-3\" class=\"sk-toggleable__label sk-toggleable__label-arrow\">KerasRegressor</label><div class=\"sk-toggleable__content\"><pre>KerasRegressor(\n",
       "\tmodel=&lt;function build_model at 0x11e1b4d30&gt;\n",
       "\tbuild_fn=None\n",
       "\twarm_start=False\n",
       "\trandom_state=None\n",
       "\toptimizer=rmsprop\n",
       "\tloss=None\n",
       "\tmetrics=None\n",
       "\tbatch_size=None\n",
       "\tvalidation_batch_size=None\n",
       "\tverbose=1\n",
       "\tcallbacks=[&lt;keras.callbacks.EarlyStopping object at 0x169d77970&gt;]\n",
       "\tvalidation_split=0.0\n",
       "\tshuffle=True\n",
       "\trun_eagerly=False\n",
       "\tepochs=1\n",
       ")</pre></div></div></div></div></div></div></div></div></div></div>"
      ],
      "text/plain": [
       "RandomizedSearchCV(cv=3,\n",
       "                   estimator=KerasRegressor(callbacks=[<keras.callbacks.EarlyStopping object at 0x169d77970>], model=<function build_model at 0x11e1b4d30>),\n",
       "                   param_distributions={'model__learning_rate': [0.0061774637391925685,\n",
       "                                                                 0.00039029074011143016,\n",
       "                                                                 0.02062463835678116,\n",
       "                                                                 0.006550753333505036,\n",
       "                                                                 0.0008443282187165011,\n",
       "                                                                 0.00040550618158762724,\n",
       "                                                                 0.006590622712725471...\n",
       "                                                                 0.0010367426599185935,\n",
       "                                                                 0.006710435190817113,\n",
       "                                                                 0.000785294977408029,\n",
       "                                                                 0.012377781995481014,\n",
       "                                                                 0.0006930168588329453,\n",
       "                                                                 0.010015299160888681,\n",
       "                                                                 0.020856032037687846,\n",
       "                                                                 0.004377480313174592,\n",
       "                                                                 0.008992856950917501,\n",
       "                                                                 0.006127962092685077,\n",
       "                                                                 0.009408004789402678, ...],\n",
       "                                        'model__n_hidden': range(0, 4),\n",
       "                                        'model__n_neurons': range(1, 101),\n",
       "                                        'model__optimizer': ['adam', 'sgd',\n",
       "                                                             'nesterov']},\n",
       "                   verbose=2)"
      ]
     },
     "execution_count": 5,
     "metadata": {},
     "output_type": "execute_result"
    }
   ],
   "source": [
    "from sklearn.model_selection import RandomizedSearchCV\n",
    "\n",
    "rnd_search_cv = RandomizedSearchCV(keras_reg, param_distribs, n_iter=10, cv=3, verbose=2)\n",
    "rnd_search_cv.fit(X_train, y_train, epochs=100, validation_data=(X_valid, y_valid), verbose=0)"
   ]
  },
  {
   "cell_type": "code",
   "execution_count": 6,
   "metadata": {},
   "outputs": [
    {
     "name": "stderr",
     "output_type": "stream",
     "text": [
      "WARNING:absl:Found untraced functions such as _update_step_xla while saving (showing 1 of 1). These functions will not be directly callable after loading.\n"
     ]
    },
    {
     "name": "stdout",
     "output_type": "stream",
     "text": [
      "INFO:tensorflow:Assets written to: ram://71f987a0e44f47efb56e50ec1903eeac/assets\n"
     ]
    },
    {
     "name": "stderr",
     "output_type": "stream",
     "text": [
      "INFO:tensorflow:Assets written to: ram://71f987a0e44f47efb56e50ec1903eeac/assets\n"
     ]
    }
   ],
   "source": [
    "import pickle\n",
    "\n",
    "with open('rnd_search_params.pkl', 'wb') as params_pickle:\n",
    "    pickle.dump(rnd_search_cv.best_params_, params_pickle)\n",
    "\n",
    "with open('rnd_search_scikeras.pkl', 'wb') as scikeras_pickle:\n",
    "    pickle.dump(rnd_search_cv, scikeras_pickle)"
   ]
  },
  {
   "cell_type": "code",
   "execution_count": 7,
   "metadata": {},
   "outputs": [],
   "source": [
    "import keras_tuner as kt\n",
    "\n",
    "def build_model_kt(hp):\n",
    "    n_hidden = hp.Int(\"n_hidden\", min_value=0, max_value=3, default=2)\n",
    "    n_neurons = hp.Int(\"n_neurons\", min_value=1, max_value=100)\n",
    "    learning_rate = hp.Float(\"learning_rate\", min_value=3e-4, max_value=3e-2, sampling=\"log\")\n",
    "    optimizer = hp.Choice(\"optimizer\", values=[\"sgd\", \"adam\", \"nesterov\"])\n",
    "\n",
    "    if optimizer == 'sgd':\n",
    "        my_optimizer = keras.optimizers.SGD(learning_rate=learning_rate, clipvalue=0.9)\n",
    "    elif optimizer == 'nesterov':\n",
    "        my_optimizer = keras.optimizers.SGD(learning_rate=learning_rate, nesterov=True, clipvalue=0.9)\n",
    "    elif optimizer == 'adam':\n",
    "        my_optimizer = keras.optimizers.Adam(learning_rate=learning_rate, clipvalue=0.9)\n",
    "    else:\n",
    "        my_optimizer = keras.optimizers.get(optimizer, learning_rate=learning_rate, clipvalue=0.9)\n",
    "\n",
    "    model = tf.keras.models.Sequential()\n",
    "    model.add(keras.layers.InputLayer(X_train.shape[1]))\n",
    "    for _ in range(n_hidden):\n",
    "        model.add(keras.layers.Dense(n_neurons))\n",
    "    model.add(keras.layers.Dense(1))\n",
    "    model.compile(loss='mse', optimizer=my_optimizer)\n",
    "    return model"
   ]
  },
  {
   "cell_type": "code",
   "execution_count": 8,
   "metadata": {},
   "outputs": [],
   "source": [
    "random_search_tuner = kt.RandomSearch(build_model_kt, objective=\"val_loss\", max_trials=10, overwrite=True,\n",
    "directory=\"my_california_housing\", project_name=\"my_rnd_search\", seed=42)"
   ]
  },
  {
   "cell_type": "code",
   "execution_count": 9,
   "metadata": {},
   "outputs": [],
   "source": [
    "import os\n",
    "\n",
    "root_logdir = os.path.join(random_search_tuner.project_dir, 'tensorboard')\n",
    "tb = tf.keras.callbacks.TensorBoard(root_logdir)"
   ]
  },
  {
   "cell_type": "code",
   "execution_count": 10,
   "metadata": {},
   "outputs": [
    {
     "name": "stdout",
     "output_type": "stream",
     "text": [
      "Trial 10 Complete [00h 00m 04s]\n",
      "val_loss: 7.694312572479248\n",
      "\n",
      "Best val_loss So Far: 0.7939809560775757\n",
      "Total elapsed time: 00h 00m 36s\n",
      "INFO:tensorflow:Oracle triggered exit\n"
     ]
    },
    {
     "name": "stderr",
     "output_type": "stream",
     "text": [
      "INFO:tensorflow:Oracle triggered exit\n"
     ]
    }
   ],
   "source": [
    "%load_ext tensorboard\n",
    "%tensorboard --logdir {root_logdir}\n",
    "random_search_tuner.search(X_train, y_train, epochs=100, validation_data=(X_valid, y_valid), callbacks=[tb, es])"
   ]
  },
  {
   "cell_type": "code",
   "execution_count": 11,
   "metadata": {},
   "outputs": [
    {
     "data": {
      "text/plain": [
       "{'n_hidden': 1,\n",
       " 'n_neurons': 25,\n",
       " 'learning_rate': 0.027153822293473857,\n",
       " 'optimizer': 'adam'}"
      ]
     },
     "execution_count": 11,
     "metadata": {},
     "output_type": "execute_result"
    }
   ],
   "source": [
    "\n",
    "params = random_search_tuner.get_best_hyperparameters()[0]\n",
    "\n",
    "best_hyperparameters = {\n",
    "    'n_hidden': params.get('n_hidden'),\n",
    "    'n_neurons': params.get('n_neurons'),\n",
    "    'learning_rate': params.get('learning_rate'),\n",
    "    'optimizer': params.get('optimizer')\n",
    "}\n",
    "\n",
    "best_hyperparameters"
   ]
  },
  {
   "cell_type": "code",
   "execution_count": 12,
   "metadata": {},
   "outputs": [],
   "source": [
    "with open('kt_search_params.pkl', 'wb') as params_keras:\n",
    "    pickle.dump(best_hyperparameters, params_keras)"
   ]
  },
  {
   "cell_type": "code",
   "execution_count": 13,
   "metadata": {},
   "outputs": [],
   "source": [
    "best_model = random_search_tuner.get_best_models()[0]\n",
    "best_model.save('kt_best_model.h5')"
   ]
  }
 ],
 "metadata": {
  "kernelspec": {
   "display_name": "ml",
   "language": "python",
   "name": "python3"
  },
  "language_info": {
   "codemirror_mode": {
    "name": "ipython",
    "version": 3
   },
   "file_extension": ".py",
   "mimetype": "text/x-python",
   "name": "python",
   "nbconvert_exporter": "python",
   "pygments_lexer": "ipython3",
   "version": "3.10.9"
  },
  "orig_nbformat": 4
 },
 "nbformat": 4,
 "nbformat_minor": 2
}
